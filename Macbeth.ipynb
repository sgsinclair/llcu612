{
 "cells": [
  {
   "cell_type": "code",
   "execution_count": 17,
   "metadata": {},
   "outputs": [
    {
     "data": {
      "text/plain": [
       "'\\ufeffThis Etext file is presented by Project Gutenberg, in\\r\\ncooperation with World L'"
      ]
     },
     "execution_count": 17,
     "metadata": {},
     "output_type": "execute_result"
    }
   ],
   "source": [
    "import urllib.request\n",
    "\n",
    "url = \"http://www.gutenberg.org/cache/epub/1129/pg1129.txt\"\n",
    "source = urllib.request.urlopen(url).read().decode()\n",
    "source[0:80]"
   ]
  },
  {
   "cell_type": "code",
   "execution_count": 18,
   "metadata": {},
   "outputs": [
    {
     "data": {
      "text/plain": [
       "3194"
      ]
     },
     "execution_count": 18,
     "metadata": {},
     "output_type": "execute_result"
    }
   ],
   "source": [
    "lines = source.split(\"\\r\\n\")\n",
    "len(lines)"
   ]
  },
  {
   "cell_type": "code",
   "execution_count": 99,
   "metadata": {},
   "outputs": [
    {
     "data": {
      "text/plain": [
       "'\\ufeffThis Etext file is presented by Project Gutenberg, in\\r\\ncooperation with World L'"
      ]
     },
     "execution_count": 99,
     "metadata": {},
     "output_type": "execute_result"
    }
   ],
   "source": [
    "source[0:80]"
   ]
  },
  {
   "cell_type": "code",
   "execution_count": 105,
   "metadata": {},
   "outputs": [
    {
     "name": "stdout",
     "output_type": "stream",
     "text": [
      " Scotland and England\r\n",
      "\r\n",
      "\r\n",
      "ACT I. SCENE I.\r\n",
      "A desert place. Thunder and lightnin                                             Flourish. Exeunt.\r\n",
      "                 \n"
     ]
    }
   ],
   "source": [
    "import re\n",
    "\n",
    "startRe = re.compile(r'.*?SCENE:', re.S)\n",
    "noLicense = re.sub(startRe, \"\", source)\n",
    "endRe = re.compile(r'-THE END-.*$', re.S)\n",
    "middlePart = re.sub(endRe, \"\", noLicense)\n",
    "print(middlePart[0:80], middlePart[-80:])"
   ]
  },
  {
   "cell_type": "code",
   "execution_count": 37,
   "metadata": {},
   "outputs": [
    {
     "name": "stdout",
     "output_type": "stream",
     "text": [
      "SCENE: Scotland and England\r\n",
      "\r\n",
      "\r\n",
      "ACT I. SCENE I.\r\n",
      "A desert place. Thunder and li \n",
      "\n",
      "                                             Flourish. Exeunt.\r\n",
      "                 \n"
     ]
    }
   ],
   "source": [
    "locationOfScene = source.find(\"SCENE:\")\n",
    "noStart = source[locationOfScene:]\n",
    "locationOfEnd = noStart.find(\"-THE END-\")\n",
    "macbeth = noStart[0:locationOfEnd]\n",
    "print(macbeth[0:80], \"\\n\\n\", macbeth[-80:])"
   ]
  },
  {
   "cell_type": "code",
   "execution_count": 98,
   "metadata": {},
   "outputs": [
    {
     "name": "stdout",
     "output_type": "stream",
     "text": [
      " When shall we three meet again?\r\n",
      "    In thunder, lightning, or in rain?\r\n",
      " When \n"
     ]
    }
   ],
   "source": [
    "import re\n",
    "\n",
    "speechRe = re.compile(r'^\\S.*', re.M)\n",
    "justSpeeches = re.sub(speechRe, \"\", macbeth)\n",
    "characterRe = re.compile(r'^\\s+[A-Z]+( [A-Z]+)*\\.', re.M)\n",
    "noCharacters = re.sub(characterRe, \"\", justSpeeches)\n",
    "print(noCharacters[0:80])"
   ]
  },
  {
   "cell_type": "code",
   "execution_count": 78,
   "metadata": {},
   "outputs": [
    {
     "data": {
      "text/plain": [
       "['',\n",
       " '',\n",
       " '',\n",
       " '',\n",
       " ' When shall we three meet again?',\n",
       " '    In thunder, lightning, or in rain?',\n",
       " \" When the hurlyburly's done,\",\n",
       " \"    When the battle's lost and won.\",\n",
       " ' That will be ere the set of sun.',\n",
       " ' Where the place?',\n",
       " ' Upon the heath.',\n",
       " ' There to meet with Macbeth.',\n",
       " ' I come, Graymalkin.',\n",
       " ' Paddock calls. Anon!',\n",
       " '    Fair is foul, and foul is fair.',\n",
       " '    Hover through the fog and filthy air.                Exeunt.',\n",
       " '',\n",
       " '',\n",
       " '',\n",
       " '',\n",
       " '',\n",
       " '',\n",
       " ' What bloody man is that? He can report,',\n",
       " '    As seemeth by his plight, of the revolt',\n",
       " '    The newest state.',\n",
       " ' This is the sergeant',\n",
       " '    Who like a good and hardy soldier fought',\n",
       " \"    'Gainst my captivity. Hail, brave friend!\",\n",
       " '    Say to the King the knowledge of the broil',\n",
       " '    As thou didst leave it.']"
      ]
     },
     "execution_count": 78,
     "metadata": {},
     "output_type": "execute_result"
    }
   ],
   "source": [
    "lines = macbeth.strip().split(\"\\r\\n\")\n",
    "speeches = []\n",
    "for line in lines:\n",
    "    if not re.match(\"^\\S\", line):\n",
    "        noCharacter = re.sub(r'^\\s+[A-Z]+( [A-Z]+)*\\.', \"\", line)\n",
    "        speeches.append(noCharacter)\n",
    "speeches[0:30]"
   ]
  },
  {
   "cell_type": "markdown",
   "metadata": {},
   "source": [
    "Here's an alternate way of doing exactly the same thing as above."
   ]
  },
  {
   "cell_type": "code",
   "execution_count": 56,
   "metadata": {},
   "outputs": [
    {
     "name": "stdout",
     "output_type": "stream",
     "text": [
      "SCENE: Scotland and England                                                Flourish. Exeunt.\n"
     ]
    }
   ],
   "source": [
    "lines = source.split(\"\\r\\n\")\n",
    "keepers = []\n",
    "for line in lines:\n",
    "    if \"SCENE:\" in line: # start keepers list\n",
    "        keepers.append(line)\n",
    "    if \"-THE END-\" in line: # we're done\n",
    "        break\n",
    "    elif keepers: # we've seen SCENE so add to our keepers\n",
    "        keepers.append(line)\n",
    "print(keepers[0], keepers[-1])"
   ]
  },
  {
   "cell_type": "code",
   "execution_count": null,
   "metadata": {},
   "outputs": [],
   "source": []
  }
 ],
 "metadata": {
  "kernelspec": {
   "display_name": "Python 3",
   "language": "python",
   "name": "python3"
  },
  "language_info": {
   "codemirror_mode": {
    "name": "ipython",
    "version": 3
   },
   "file_extension": ".py",
   "mimetype": "text/x-python",
   "name": "python",
   "nbconvert_exporter": "python",
   "pygments_lexer": "ipython3",
   "version": "3.7.2"
  }
 },
 "nbformat": 4,
 "nbformat_minor": 2
}
