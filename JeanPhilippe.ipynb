{
 "cells": [
  {
   "cell_type": "code",
   "execution_count": 9,
   "metadata": {},
   "outputs": [
    {
     "name": "stdout",
     "output_type": "stream",
     "text": [
      "reading  https://raw.githubusercontent.com/Istighma/LLCU612/master/cleaned.Galata%2015%20sicilindd%20-%20unknown%20pubDate.pdf.txt (string is now 694535 characters long).\n",
      "reading  https://raw.githubusercontent.com/Istighma/LLCU612/master/cleaned.Galata%205indd%20-%20unknown%20pubDate.pdf.txt (string is now 1035477 characters long).\n",
      "reading  https://raw.githubusercontent.com/Istighma/LLCU612/master/cleaned.Galata%207%20sicilindd%20-%20unknown%20pubDate.pdf.txt (string is now 1247471 characters long).\n"
     ]
    }
   ],
   "source": [
    "import urllib.request\n",
    "\n",
    "# concatenate strings (from URLs, you can do it from local files)\n",
    "urls = [\n",
    "    \"https://raw.githubusercontent.com/Istighma/LLCU612/master/cleaned.Galata%2015%20sicilindd%20-%20unknown%20pubDate.pdf.txt\",\n",
    "    \"https://raw.githubusercontent.com/Istighma/LLCU612/master/cleaned.Galata%205indd%20-%20unknown%20pubDate.pdf.txt\",\n",
    "    \"https://raw.githubusercontent.com/Istighma/LLCU612/master/cleaned.Galata%207%20sicilindd%20-%20unknown%20pubDate.pdf.txt\"\n",
    "]\n",
    "string = \"\"\n",
    "for url in urls:\n",
    "    string += urllib.request.urlopen(url).read().decode()\n",
    "    print(\"reading \", url, \"(string is now\", len(string), \"characters long).\")"
   ]
  },
  {
   "cell_type": "code",
   "execution_count": 21,
   "metadata": {},
   "outputs": [],
   "source": [
    "# gather paragraphs\n",
    "\n",
    "paragraphs = [] # track paragraphs\n",
    "pos = 0 # initial position marker (assuming our keyword isn't at the very start)\n",
    "while(pos>-1): # loop while we have a match\n",
    "    pos = string.find(\"temessük\", pos+1) # find next match\n",
    "    leftNewLine = string.rfind(\"\\n\\n\", 0, pos) # find previous newline\n",
    "    rightNewLine = string.find(\"\\n\\n\", pos) # find next newline\n",
    "    paragraph = string[leftNewLine+2:rightNewLine] # isolate paragraph\n",
    "    if paragraph: # if we have a non-empty string\n",
    "        paragraphs.append(paragraph) # add it to the paragraphs"
   ]
  },
  {
   "cell_type": "code",
   "execution_count": 29,
   "metadata": {},
   "outputs": [],
   "source": [
    "for i, paragraph in enumerate(paragraphs): # we enumerate to get index\n",
    "    filename = '{0:03d}'.format(i)+\".txt\" # left pad the number with zeroes\n",
    "    with open(filename, \"w\") as f: # open file for writing\n",
    "        f.write(paragraph) # write out current paragraph"
   ]
  }
 ],
 "metadata": {
  "kernelspec": {
   "display_name": "Python 3",
   "language": "python",
   "name": "python3"
  },
  "language_info": {
   "codemirror_mode": {
    "name": "ipython",
    "version": 3
   },
   "file_extension": ".py",
   "mimetype": "text/x-python",
   "name": "python",
   "nbconvert_exporter": "python",
   "pygments_lexer": "ipython3",
   "version": "3.7.1"
  }
 },
 "nbformat": 4,
 "nbformat_minor": 2
}
